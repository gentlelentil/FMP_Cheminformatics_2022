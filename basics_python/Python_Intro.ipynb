{
  "nbformat": 4,
  "nbformat_minor": 0,
  "metadata": {
    "colab": {
      "provenance": [],
      "collapsed_sections": [],
      "authorship_tag": "ABX9TyNrtbawmW1uJRxGh+Ac2jek",
      "include_colab_link": true
    },
    "kernelspec": {
      "name": "python3",
      "display_name": "Python 3"
    },
    "language_info": {
      "name": "python"
    }
  },
  "cells": [
    {
      "cell_type": "markdown",
      "metadata": {
        "id": "view-in-github",
        "colab_type": "text"
      },
      "source": [
        "<a href=\"https://colab.research.google.com/github/gentlelentil/FMP_Cheminformatics_2022/blob/main/Python_Intro.ipynb\" target=\"_parent\"><img src=\"https://colab.research.google.com/assets/colab-badge.svg\" alt=\"Open In Colab\"/></a>"
      ]
    },
    {
      "cell_type": "code",
      "metadata": {
        "id": "wMjb4zzn3dHH"
      },
      "source": [
        "import numpy as np\n",
        "import pandas as pd"
      ],
      "execution_count": null,
      "outputs": []
    },
    {
      "cell_type": "code",
      "metadata": {
        "colab": {
          "base_uri": "https://localhost:8080/"
        },
        "id": "kUtn0Q56wOWe",
        "outputId": "fe985d78-d8e2-43c2-a19c-22f67fcc5f51"
      },
      "source": [
        "stringo=\"The treasure us buried under the bridege \"\n",
        "print(stringo[:33])\n",
        "long_str= \"Now, that, is a very log string\"\n",
        "print(long_str.split(\",\"))\n",
        "print(long_str.split(\",\")[2])\n",
        "string1='Is This The SAME String???'\n",
        "string2=\"is this The same string???\"\n",
        "print(string1==string2)\n",
        "print(string1.lower()==string2.lower(),\"\\n\",string1.lower())\n",
        "print(\"This is a new line \\n and this here is the second line \\ n is. Look we got 'strings'\")"
      ],
      "execution_count": null,
      "outputs": [
        {
          "output_type": "stream",
          "text": [
            "The treasure us buried under the \n",
            "['Now', ' that', ' is a very log string']\n",
            " is a very log string\n",
            "False\n",
            "True \n",
            " is this the same string???\n",
            "This is a new line \n",
            " and this here is still the second line \\ n is. Look we got 'strings'\n"
          ],
          "name": "stdout"
        }
      ]
    },
    {
      "cell_type": "code",
      "metadata": {
        "colab": {
          "base_uri": "https://localhost:8080/"
        },
        "id": "2WV_tufMwb-o",
        "outputId": "e432772b-3dfc-4e1f-cc8e-8eeeac900597"
      },
      "source": [
        "print(1<=1)\n",
        "print(1<1)\n",
        "print(1!=4)\n",
        "print(1.0==1)\n",
        "print(int(\"3\"))\n",
        "10%5, 10%9\n"
      ],
      "execution_count": null,
      "outputs": [
        {
          "output_type": "stream",
          "text": [
            "True\n",
            "False\n",
            "True\n",
            "True\n"
          ],
          "name": "stdout"
        },
        {
          "output_type": "execute_result",
          "data": {
            "text/plain": [
              "(0, 1)"
            ]
          },
          "metadata": {
            "tags": []
          },
          "execution_count": 30
        }
      ]
    },
    {
      "cell_type": "code",
      "metadata": {
        "colab": {
          "base_uri": "https://localhost:8080/"
        },
        "id": "fdhEMZN1zG8q",
        "outputId": "7db42cba-36f6-4868-8a7d-15908e9a4b39"
      },
      "source": [
        "list1=[]\n",
        "list1.append(3)\n",
        "list1[0]==3\n",
        "list2=[1]+[2]\n",
        "list3=[2]*5\n",
        "print(list1, \" list1 and here list2: \",list2,\"\\n and here is List3 \",list3)\n",
        "if len(list3)==5:\n",
        "  print(5)\n",
        "else:\n",
        "  print(\"Too short\")\n",
        "list3=list3[:3]\n",
        "if len(list3)==5:\n",
        "  print(5)\n",
        "else:\n",
        "  print(\"Too short: List3= \", list3)\n",
        "list4=[1,1,1,2,2,2,3,3,3,3,4,4,4,45,5,5,]\n",
        "set(list4)"
      ],
      "execution_count": null,
      "outputs": [
        {
          "output_type": "stream",
          "text": [
            "[3]  list1 and here list2:  [1, 2] \n",
            " and here is List3  [2, 2, 2, 2, 2]\n",
            "5\n",
            "Too short: List3=  [2, 2, 2]\n"
          ],
          "name": "stdout"
        },
        {
          "output_type": "execute_result",
          "data": {
            "text/plain": [
              "{1, 2, 3, 4, 5, 45}"
            ]
          },
          "metadata": {
            "tags": []
          },
          "execution_count": 58
        }
      ]
    },
    {
      "cell_type": "code",
      "metadata": {
        "colab": {
          "base_uri": "https://localhost:8080/"
        },
        "id": "VhEhZD5W04sa",
        "outputId": "95c4d546-0102-4695-a456-59a6257e6be9"
      },
      "source": [
        "dict0={}\n",
        "dict0[\"Dictionaries can store many different things\"]=[1,\"2\",None,True,False]\n",
        "dict0"
      ],
      "execution_count": null,
      "outputs": [
        {
          "output_type": "execute_result",
          "data": {
            "text/plain": [
              "{'Dictionaries can store many different things': [1, '2', None, True, False]}"
            ]
          },
          "metadata": {
            "tags": []
          },
          "execution_count": 43
        }
      ]
    },
    {
      "cell_type": "code",
      "metadata": {
        "colab": {
          "base_uri": "https://localhost:8080/"
        },
        "id": "7TX-tkbP3gau",
        "outputId": "c989353d-1aa7-44ed-996f-4c424f6174eb"
      },
      "source": [
        "listA=[1,2,3]\n",
        "try:\n",
        "  listA+3\n",
        "except:\n",
        "  print(\"You cannot do this, Use try and except if you want to supress errors\")\n",
        "listB=np.asarray(listA)\n",
        "listB+3"
      ],
      "execution_count": null,
      "outputs": [
        {
          "output_type": "stream",
          "text": [
            "You cannot do this, Use try and except if you want to supress errors\n"
          ],
          "name": "stdout"
        },
        {
          "output_type": "execute_result",
          "data": {
            "text/plain": [
              "array([4, 5, 6])"
            ]
          },
          "metadata": {
            "tags": []
          },
          "execution_count": 49
        }
      ]
    },
    {
      "cell_type": "code",
      "metadata": {
        "colab": {
          "base_uri": "https://localhost:8080/"
        },
        "id": "dJfhtAdY4iYg",
        "outputId": "57a433be-0fab-4c3f-e2dc-0f710755fef3"
      },
      "source": [
        "def test_function(input):\n",
        "  try:\n",
        "      if input.lower()!=\"cheese\":\n",
        "       print(\"This is not cheese\")\n",
        "      else:\n",
        "       print(\"This is cheese\")\n",
        "  except:\n",
        "    if input==4:\n",
        "      print(\"This is a lucky number!\")\n",
        "    if input > 10:\n",
        "       print(\"This is toooo high\")\n",
        "    else:\n",
        "      print(\"Wrong number\")\n",
        "  return input\n",
        "test_function(3)"
      ],
      "execution_count": null,
      "outputs": [
        {
          "output_type": "stream",
          "text": [
            "Wrong number\n"
          ],
          "name": "stdout"
        },
        {
          "output_type": "execute_result",
          "data": {
            "text/plain": [
              "3"
            ]
          },
          "metadata": {
            "tags": []
          },
          "execution_count": 56
        }
      ]
    },
    {
      "cell_type": "code",
      "metadata": {
        "colab": {
          "base_uri": "https://localhost:8080/"
        },
        "id": "by3l4oJp5hOm",
        "outputId": "b63c4bea-fda6-4fe3-bbe6-31fec7acb5ad"
      },
      "source": [
        "test_function(\"CHeeSe\"),test_function(\"bread\")"
      ],
      "execution_count": null,
      "outputs": [
        {
          "output_type": "stream",
          "text": [
            "This is cheese\n",
            "This is not cheese\n"
          ],
          "name": "stdout"
        },
        {
          "output_type": "execute_result",
          "data": {
            "text/plain": [
              "('CHeeSe', 'bread')"
            ]
          },
          "metadata": {
            "tags": []
          },
          "execution_count": 57
        }
      ]
    }
  ]
}
